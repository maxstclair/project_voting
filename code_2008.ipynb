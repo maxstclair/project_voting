{
 "cells": [
  {
   "cell_type": "code",
   "execution_count": 14,
   "metadata": {},
   "outputs": [
    {
     "name": "stdout",
     "output_type": "stream",
     "text": [
      "Root Mean Squared Error: 6091.4508124237345\n",
      "Total Predicted Vote Skew: 35831.67999999999\n",
      "     Actual  Predicted\n",
      "127   -2078    2516.00\n",
      "66    -1919    2941.84\n",
      "104     787   -1198.16\n",
      "19     -747   -1160.36\n",
      "42    17680    2685.20\n"
     ]
    }
   ],
   "source": [
    "import pandas as pd\n",
    "from sklearn.model_selection import train_test_split\n",
    "from sklearn.neighbors import KNeighborsRegressor\n",
    "from sklearn.metrics import mean_squared_error\n",
    "from math import sqrt\n",
    "\n",
    "# Load data from Excel file\n",
    "data = pd.read_excel(\"./data/Census_Data_2008.xlsx\")\n",
    "\n",
    "# Features and target variable\n",
    "X = data[['Income to Poverty Level Ratio', 'Median House Value']]\n",
    "y = data['Vote Skew']\n",
    "\n",
    "# Splitting the dataset into training and testing sets\n",
    "X_train, X_test, y_train, y_test = train_test_split(X, y, test_size=0.2, random_state=42)\n",
    "\n",
    "# Creating the KNN regressor model\n",
    "knn_regressor = KNeighborsRegressor(n_neighbors=25)\n",
    "\n",
    "# Fitting the model\n",
    "knn_regressor.fit(X_train, y_train)\n",
    "\n",
    "# Making predictions\n",
    "predictions = knn_regressor.predict(X_test)\n",
    "\n",
    "# Evaluating the model\n",
    "rmse = sqrt(mean_squared_error(y_test, predictions))\n",
    "print(f'Root Mean Squared Error: {rmse}')\n",
    "\n",
    "# Tallying up the predicted vote skew values\n",
    "total_predicted_skew = predictions.sum()\n",
    "print(f'Total Predicted Vote Skew: {total_predicted_skew}')\n",
    "\n",
    "# Displaying some predictions\n",
    "results = pd.DataFrame({'Actual': y_test, 'Predicted': predictions})\n",
    "print(results.head())"
   ]
  },
  {
   "cell_type": "code",
   "execution_count": 9,
   "metadata": {},
   "outputs": [
    {
     "name": "stdout",
     "output_type": "stream",
     "text": [
      "R-squared: 0.03998429015408411\n",
      "     Actual  Predicted\n",
      "127   -2078    2516.00\n",
      "66    -1919    2941.84\n",
      "104     787   -1198.16\n",
      "19     -747   -1160.36\n",
      "42    17680    2685.20\n"
     ]
    }
   ],
   "source": [
    "import pandas as pd\n",
    "from sklearn.model_selection import train_test_split\n",
    "from sklearn.neighbors import KNeighborsRegressor\n",
    "from sklearn.metrics import r2_score\n",
    "\n",
    "# Load data from Excel file\n",
    "data = pd.read_excel(\"./data/Census_Data_2008.xlsx\")\n",
    "\n",
    "# Features and target variable\n",
    "X = data[['Income to Poverty Level Ratio', 'Median House Value']]\n",
    "y = data['Vote Skew']\n",
    "\n",
    "# Splitting the dataset into training and testing sets\n",
    "X_train, X_test, y_train, y_test = train_test_split(X, y, test_size=0.2, random_state=42)\n",
    "\n",
    "# Creating the KNN regressor model\n",
    "knn_regressor = KNeighborsRegressor(n_neighbors=25)\n",
    "\n",
    "# Fitting the model\n",
    "knn_regressor.fit(X_train, y_train)\n",
    "\n",
    "# Making predictions\n",
    "predictions = knn_regressor.predict(X_test)\n",
    "\n",
    "# Calculating R-squared\n",
    "r_squared = r2_score(y_test, predictions)\n",
    "print(f'R-squared: {r_squared}')\n",
    "\n",
    "# Displaying some predictions\n",
    "results = pd.DataFrame({'Actual': y_test, 'Predicted': predictions})\n",
    "print(results.head())"
   ]
  }
 ],
 "metadata": {
  "kernelspec": {
   "display_name": "base",
   "language": "python",
   "name": "python3"
  },
  "language_info": {
   "codemirror_mode": {
    "name": "ipython",
    "version": 3
   },
   "file_extension": ".py",
   "mimetype": "text/x-python",
   "name": "python",
   "nbconvert_exporter": "python",
   "pygments_lexer": "ipython3",
   "version": "3.11.5"
  }
 },
 "nbformat": 4,
 "nbformat_minor": 2
}
